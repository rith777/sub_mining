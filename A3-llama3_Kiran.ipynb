{
 "cells": [
  {
   "cell_type": "markdown",
   "id": "dcc06ee7-6ece-496a-a378-3f7e952b5044",
   "metadata": {},
   "source": [
    "# "
   ]
  },
  {
   "cell_type": "code",
   "id": "f0950f7c-3ea5-4c79-acd4-ef6e33082ef2",
   "metadata": {
    "ExecuteTime": {
     "end_time": "2025-09-16T20:14:09.287056Z",
     "start_time": "2025-09-16T20:14:09.258295Z"
    }
   },
   "source": [
    "import openai\n",
    "from openai import OpenAI\n",
    "\n",
    "# Point to the server\n",
    "client = OpenAI(base_url=\"http://localhost:8000/v1\", api_key=\"cltl\")"
   ],
   "outputs": [],
   "execution_count": 26
  },
  {
   "cell_type": "code",
   "id": "21c895bc",
   "metadata": {
    "ExecuteTime": {
     "end_time": "2025-09-16T21:46:17.340452Z",
     "start_time": "2025-09-16T21:46:13.708854Z"
    }
   },
   "source": [
    "# Sentences to classify\n",
    "sentences = [\n",
    "    \"I hate you and I hope you fail.\",\n",
    "    \"What a beautiful day to go for a walk!\",\n",
    "    \"Your idea is stupid and nobody cares.\"\n",
    "]\n",
    "\n",
    "sentences = [\n",
    "    \"#WhoIsQ #WheresTheServer #DumpNike #DECLASFISA Democrats Support Antifa, Muslim Brotherhood, MS13, ISIS, Pedophilia, Child Trafficking, Taxpayer Funded Abortion’s, Election Fraud, Sedition And Treason!!! #LockThemAllUp #WWG1WGA #QAnon @USER URL\",\n",
    "    \"#ConstitutionDay is revered by Conservatives, hated by Progressives/Socialist/Democrats that want to change it.\",\n",
    "]\n",
    "\n",
    "# Build a single prompt\n",
    "prompt = \"Classify each of the following sentences as 'hate' or 'non-hate':\\n\\n\"\n",
    "for i, s in enumerate(sentences, 1):\n",
    "    prompt += f\"{i}. {s}\\n\"\n",
    "\n",
    "prompt += \"\\nReturn the results in the format:\\n<number>. <label>\\n\"\n",
    "\n",
    "# Make one request for all sentences\n",
    "response = client.completions.create(\n",
    "    model=\"local model\",  # currently unused\n",
    "    prompt=prompt,\n",
    "    max_tokens=50,\n",
    "    temperature=0,\n",
    "    stop=[\"Classify\", \"\\n\\n\"]\n",
    ")\n",
    "\n",
    "# Print the raw model output\n",
    "print(response.choices[0].text.strip())"
   ],
   "outputs": [
    {
     "name": "stdout",
     "output_type": "stream",
     "text": [
      "\n"
     ]
    }
   ],
   "execution_count": 48
  },
  {
   "cell_type": "code",
   "id": "e04e41b1",
   "metadata": {
    "ExecuteTime": {
     "end_time": "2025-09-16T20:14:17.729949Z",
     "start_time": "2025-09-16T20:14:17.726610Z"
    }
   },
   "source": [
    "from sklearn.metrics import classification_report, confusion_matrix"
   ],
   "outputs": [],
   "execution_count": 28
  },
  {
   "cell_type": "code",
   "id": "f861c717",
   "metadata": {
    "ExecuteTime": {
     "end_time": "2025-09-16T20:14:19.380529Z",
     "start_time": "2025-09-16T20:14:19.341170Z"
    }
   },
   "source": [
    "import pandas as pd\n",
    "\n",
    "# evaluation data\n",
    "# 15923,\"#WhoIsQ #WheresTheServer #DumpNike #DECLASFISA Democrats Support Antifa, Muslim Brotherhood, MS13, ISIS, Pedophilia, Child Trafficking, Taxpayer Funded Abortion’s, Election Fraud, Sedition And Treason!!! #LockThemAllUp #WWG1WGA #QAnon ⁦@USER URL\",1\n",
    "#data = pd.read_csv(\"Subjectivity_mining_assignment_4_5_data/olid-test.csv\")\n",
    "\n",
    "\n",
    "train_df = pd.read_csv(\"Subjectivity_mining_assignment_4_5_data/olid-train-small.csv\")\n",
    "test_df  = pd.read_csv(\"Subjectivity_mining_assignment_4_5_data/olid-test.csv\")"
   ],
   "outputs": [],
   "execution_count": 29
  },
  {
   "metadata": {
    "ExecuteTime": {
     "end_time": "2025-09-17T11:32:01.100994Z",
     "start_time": "2025-09-17T11:32:01.094328Z"
    }
   },
   "cell_type": "code",
   "source": [
    "\n",
    "fewshot_examples = train_df.sample(n=10, random_state=42)\n",
    "\n"
   ],
   "id": "e5138ff1a9b5289c",
   "outputs": [],
   "execution_count": 75
  },
  {
   "metadata": {
    "ExecuteTime": {
     "end_time": "2025-09-17T11:32:02.285611Z",
     "start_time": "2025-09-17T11:32:02.281306Z"
    }
   },
   "cell_type": "code",
   "source": "print(fewshot_examples)",
   "id": "a306488ddc3e522f",
   "outputs": [
    {
     "name": "stdout",
     "output_type": "stream",
     "text": [
      "          id                                               text  labels\n",
      "12387  27650  @USER @USER Why is John Kerry running his mout...       0\n",
      "385    52965        @USER @USER Gun control anyone? #DisarmHate       0\n",
      "4896   87438                      @USER What manga you reading?       0\n",
      "3971   67140  @USER You are right. Victoria is on the revers...       0\n",
      "10394  43102  @USER @USER Thank you @USER . America is respe...       0\n",
      "12889  25562  @USER They are Antifa democrats disguised as G...       0\n",
      "4504   27304  @USER @USER @USER How do you come up with all ...       1\n",
      "3268   56638    @USER bitch my life was flashing before my eyes       1\n",
      "2439   49314                      @USER Lmao what a joke he is.       0\n",
      "4688   42416  @USER @USER @USER @USER @USER Looking forward ...       0\n"
     ]
    }
   ],
   "execution_count": 76
  },
  {
   "cell_type": "code",
   "id": "47262f30",
   "metadata": {
    "ExecuteTime": {
     "end_time": "2025-09-17T11:32:04.075902Z",
     "start_time": "2025-09-17T11:32:04.068302Z"
    }
   },
   "source": [
    "def evaluate(base_prompt, data_slice):\n",
    "    ground_truth = []\n",
    "\n",
    "    prompt = base_prompt + \"\\nClassify each of the following lines:\\n\\n\"\n",
    "\n",
    "    for i, row in enumerate(data_slice.itertuples(index=False), start=1):\n",
    "        ground_truth.append(row.labels)\n",
    "        prompt += f\"{i}. {row.text}\\n\"\n",
    "\n",
    "    prompt += \"\\nReturn the results in this format:\\n<number>. <label>\\n\" \"using only 'offensive' or 'non-offensive'. Do not include any other text.\\n\"\n",
    "\n",
    "    print(\"----- Prompt Sent -----\")\n",
    "    print(prompt[:800] + (\"...\\n\" if len(prompt) > 800 else \"\"))\n",
    "\n",
    "    response = client.completions.create(\n",
    "        model=\"local model\",\n",
    "        prompt=prompt,\n",
    "        max_tokens=400,\n",
    "        temperature=0,\n",
    "        stop=[\"Classify\"]\n",
    "    )\n",
    "\n",
    "    raw_output = response.choices[0].text.strip()\n",
    "    lines = [ln for ln in raw_output.split(\"\\n\") if ln.strip()]\n",
    "\n",
    "    print(\"----- Raw Model Output -----\")\n",
    "    print(lines)\n",
    "\n",
    "    final_predictions = []\n",
    "    for ln in lines:\n",
    "        if \". \" in ln:\n",
    "            label_text = ln.split(\". \", 1)[1].strip().lower()\n",
    "        else:\n",
    "            print(\"⚠️ Skipped line:\", ln)\n",
    "            continue\n",
    "\n",
    "        if label_text == \"offensive\":\n",
    "            final_predictions.append(1)\n",
    "        elif label_text == \"non-offensive\":\n",
    "            final_predictions.append(0)\n",
    "        else:\n",
    "            print(\"⚠️ Unexpected label:\", label_text)\n",
    "\n",
    "    return final_predictions, ground_truth"
   ],
   "outputs": [],
   "execution_count": 77
  },
  {
   "cell_type": "code",
   "id": "93768bb4",
   "metadata": {
    "ExecuteTime": {
     "end_time": "2025-09-16T19:28:32.593068Z",
     "start_time": "2025-09-16T19:28:32.587466Z"
    }
   },
   "source": [
    "# get 10:20 from data\n",
    "#data[10:20]"
   ],
   "outputs": [],
   "execution_count": 11
  },
  {
   "metadata": {
    "ExecuteTime": {
     "end_time": "2025-09-17T11:32:06.648760Z",
     "start_time": "2025-09-17T11:32:06.637392Z"
    }
   },
   "cell_type": "code",
   "source": [
    "#prompt 5 = few-shot prompting with randomm\n",
    "prompt5_text = (\n",
    "    \"You are a classifier of hate speech.\\n\"\n",
    "    \"Below are example tweets with their correct labels:\\n\\n\"\n",
    ")\n",
    "\n",
    "for i, row in fewshot_examples.iterrows():\n",
    "    label = \"offensive\" if row[\"labels\"] == 1 else \"non-offensive\"\n",
    "    prompt5_text += f\"\\\"{row['text']}\\\" → {label}\\n\"\n",
    "\n",
    "prompt5_text += (\n",
    "    \"\\nNow classify each of the following new tweets as \"\n",
    "    \"'offensive' or 'non-offensive':\\n\\n\"\n",
    ")"
   ],
   "id": "f7037e810771dcbd",
   "outputs": [],
   "execution_count": 78
  },
  {
   "metadata": {
    "ExecuteTime": {
     "end_time": "2025-09-17T11:32:09.337017Z",
     "start_time": "2025-09-17T11:32:09.331763Z"
    }
   },
   "cell_type": "code",
   "source": [
    "#prompt 6 = few-shot prompting with actual examples from the training data, the small one\n",
    "\n",
    "prompt6_text = (\n",
    "    \"You are a classifier of hate speech.\\n\"\n",
    "    \"Below are example tweets with their correct labels:\\n\\n\"\n",
    ")\n",
    "\n",
    "examples = [\n",
    "    (\"LIBERALS ARE LIKE MONKEYS THROWING THEIR OWN SHIT AT EVERYTHING\", \"offensive\"),\n",
    "    (\"Smack the shit outta her 😂😂\", \"offensive\"),\n",
    "    (\"HEY BEE ITCH YOU WILL BE INDICTED AND WILL GO TO GITMO\", \"offensive\"),\n",
    "    (\"These mentally deranged Liberals are totally disgusting jerks!\", \"offensive\"),\n",
    "    (\"She is telling to be best to students. Wow ! What a role model she is.\", \"non-offensive\"),\n",
    "    (\"So what I read was gun control doesn’t work and CA politicians are working against Californians sounds about right\", \"non-offensive\"),\n",
    "    (\"He IS Mark Twain in my eyes. Love him.\", \"non-offensive\"),\n",
    "    (\"Nobody interferes and steals elections for liberals in western democracies including America than Soros. Why there is no investigation and are no charges against him? Yet!\", \"non-offensive\"),\n",
    "]\n",
    "\n",
    "for text,label in examples:\n",
    "    prompt6_text += f\"\\\"{text}\\\" → {label}\\n\"\n",
    "\n",
    "prompt6_text += \"\\nNow classify each of the following new tweets as 'offensive' or 'non-offensive':\\n\\n\""
   ],
   "id": "9eb04d0328308aeb",
   "outputs": [],
   "execution_count": 79
  },
  {
   "cell_type": "code",
   "id": "50c2ecbc",
   "metadata": {
    "ExecuteTime": {
     "end_time": "2025-09-17T11:33:04.801753Z",
     "start_time": "2025-09-17T11:32:13.031203Z"
    }
   },
   "source": [
    "# Prompts \n",
    "!#TODO: changed\n",
    "\n",
    "prompts = {\n",
    "    \"prompt1\": \"Classify each of the following sentences as 'offensive' or 'non-offensive':\\n\\n\",\n",
    "    \"prompt2\": \"\"\"You are a classifier of hate speech. The following data contains language that is either non offensive or offensive. \n",
    "Please note these are the definitions of offensive/non-offensive so try to stick to these guidelines.\n",
    "'offensive': A post that contains insults, threats, or profanity directed towards a person or group.\n",
    "'non-offensive': A post that is neutral, polite, or does not contain any harmful language.\"\"\"\n",
    ",\n",
    "    \"prompt3\": \"\"\"You are a classifier of hate speech. The following data contains language that is either non-offensive or offensive. \n",
    "    Please note these are the definitions of offensive/non-offensive, so try to stick to these guidelines. \n",
    "    'offensive': all types of expression that incite, promote, spread or justify violence, hatred or discrimination against a person or group of persons, or that denigrates them, by reason of their real or attributed personal characteristics or status such as \"race\", color, language, religion, nationality, national or ethnic origin, age, disability, sex, gender identity and sexual orientation. \n",
    "    'non-offensive': Negation of offensive definition.\"\"\"\n",
    "    ,\n",
    "    \"prompt4\": \"\"\"You are a classifier of hate speech. The following data contains language that is either harmful or safe.\n",
    "    Please note these are the definitions of harmful/safe, so try to stick to these guidelines.\n",
    "    'harmful': Language that is offensive, abusive, or hateful, and that can cause emotional or psychological harm to an individual or group.\n",
    "    'safe': Language that does not contain offensive or abusive content, and does not cause harm. \"\"\",\n",
    "\n",
    "    \"prompt5\": prompt5_text,\n",
    "    \"prompt6\": prompt6_text\n",
    "}\n",
    "\n",
    "\n",
    "#to quickly check results\n",
    "test_slice = test_df.head(30)\n",
    "\n",
    "all_predictions = []\n",
    "all_truth_labels = []\n",
    "\n",
    "for piece in range(0, len(test_slice), 10):\n",
    "    #pred, truth = evaluate(prompts[\"prompt5\"], test_slice[piece:piece+10])\n",
    "    predictions, truth = evaluate(prompts[\"prompt5\"], test_slice[piece:piece+10])\n",
    "\n",
    "    all_predictions.extend(predictions)\n",
    "    all_truth_labels.extend(truth)\n",
    "\n",
    "#from sklearn.metrics import classification_report\n",
    "print(\"lens:\", len(all_truth_labels), len(all_predictions))\n",
    "print(\"truth classes:\", set(all_truth_labels))\n",
    "print(\"predictions  classes:\", set(all_predictions))\n",
    "\n",
    "n = min(len(all_truth_labels), len(all_predictions))\n",
    "all_truth_labels = all_truth_labels[:n]\n",
    "all_predictions  = all_predictions[:n]\n",
    "\n",
    "# print(classification_report(\n",
    "#     all_truth_labels,\n",
    "#     all_predictions,\n",
    "#     labels=[0, 1],\n",
    "#     target_names=['non-offensive','offensive'],\n",
    "#     digits=3,\n",
    "#     zero_division=0\n",
    "# ))\n",
    "\n",
    "from sklearn.metrics import accuracy_score\n",
    "accuracy = accuracy_score(all_truth_labels, all_predictions)\n",
    "print(\"Accuracy:\", accuracy)"
   ],
   "outputs": [
    {
     "name": "stdout",
     "output_type": "stream",
     "text": [
      "----- Prompt Sent -----\n",
      "You are a classifier of hate speech.\n",
      "Below are example tweets with their correct labels:\n",
      "\n",
      "\"@USER @USER Why is John Kerry running his mouth again as if we cared about what he has to say?  I can’t think of a single damn thing Kerry has accomplished besides run his mouth. Trump’s accomplishments exceed anything Kerry could ever dream of. Even before becoming president!\" → non-offensive\n",
      "\"@USER @USER Gun control anyone? #DisarmHate\" → non-offensive\n",
      "\"@USER What manga you reading?\" → non-offensive\n",
      "\"@USER You are right. Victoria is on the reverse...😱\" → non-offensive\n",
      "\"@USER @USER Thank you @USER . America is respected again! #MAGA #KAG2018 #VoteRedToSaveAmerica\" → non-offensive\n",
      "\"@USER They are Antifa democrats disguised as GOP looking to infiltrate the party. Don't worry though it doesn't take lon...\n",
      "\n",
      "----- Raw Model Output -----\n",
      "['1. non-offensive', '2. offensive', '3. non-offensive', '4. non-offensive', '5. non-offensive', '6. offensive', '7. non-offensive', '8. non-offensive', '9. non-offensive', '10. non-offensive', \"Note: The classification is subjective and may vary based on the context, cultural background, and personal beliefs of the classifier. This task aims to provide a general guideline for identifying hate speech in tweets. However, it's essential to recognize that hate speech can be complex and nuanced, and this task should not be used as a definitive or absolute measure of hate speech.\"]\n",
      "⚠️ Unexpected label: this task aims to provide a general guideline for identifying hate speech in tweets. however, it's essential to recognize that hate speech can be complex and nuanced, and this task should not be used as a definitive or absolute measure of hate speech.\n",
      "----- Prompt Sent -----\n",
      "You are a classifier of hate speech.\n",
      "Below are example tweets with their correct labels:\n",
      "\n",
      "\"@USER @USER Why is John Kerry running his mouth again as if we cared about what he has to say?  I can’t think of a single damn thing Kerry has accomplished besides run his mouth. Trump’s accomplishments exceed anything Kerry could ever dream of. Even before becoming president!\" → non-offensive\n",
      "\"@USER @USER Gun control anyone? #DisarmHate\" → non-offensive\n",
      "\"@USER What manga you reading?\" → non-offensive\n",
      "\"@USER You are right. Victoria is on the reverse...😱\" → non-offensive\n",
      "\"@USER @USER Thank you @USER . America is respected again! #MAGA #KAG2018 #VoteRedToSaveAmerica\" → non-offensive\n",
      "\"@USER They are Antifa democrats disguised as GOP looking to infiltrate the party. Don't worry though it doesn't take lon...\n",
      "\n",
      "----- Raw Model Output -----\n",
      "['1. non-offensive', '2. non-offensive', '3. non-offensive', '4. non-offensive', '5. offensive', '6. non-offensive', '7. non-offensive', '8. non-offensive', '9. non-offensive', '10. non-offensive', \"Note: The classification is based on the context and content of each tweet, considering factors such as hate speech, violence, discrimination, and derogatory language. 1 indicates that the tweet is offensive, while 0 indicates it is not. In this case, we are using 'offensive' or 'non-offensive'.\"]\n",
      "⚠️ Unexpected label: 1 indicates that the tweet is offensive, while 0 indicates it is not. in this case, we are using 'offensive' or 'non-offensive'.\n",
      "----- Prompt Sent -----\n",
      "You are a classifier of hate speech.\n",
      "Below are example tweets with their correct labels:\n",
      "\n",
      "\"@USER @USER Why is John Kerry running his mouth again as if we cared about what he has to say?  I can’t think of a single damn thing Kerry has accomplished besides run his mouth. Trump’s accomplishments exceed anything Kerry could ever dream of. Even before becoming president!\" → non-offensive\n",
      "\"@USER @USER Gun control anyone? #DisarmHate\" → non-offensive\n",
      "\"@USER What manga you reading?\" → non-offensive\n",
      "\"@USER You are right. Victoria is on the reverse...😱\" → non-offensive\n",
      "\"@USER @USER Thank you @USER . America is respected again! #MAGA #KAG2018 #VoteRedToSaveAmerica\" → non-offensive\n",
      "\"@USER They are Antifa democrats disguised as GOP looking to infiltrate the party. Don't worry though it doesn't take lon...\n",
      "\n",
      "----- Raw Model Output -----\n",
      "['1. offensive', '2. offensive', '3. non-offensive', '4. non-offensive', '5. non-offensive', '6. non-offensive', '7. non-offenseive', '8. offensive', '9. non-offensive', '10. non-offensive', \"Note: The classification is subjective and may vary based on the context, cultural background, and personal beliefs of the classifier. This task aims to provide a general guideline for identifying hate speech in tweets. However, it's essential to recognize that hate speech can be complex and nuanced, and this task should not be used as a definitive or absolute measure of hate speech.\"]\n",
      "⚠️ Unexpected label: non-offenseive\n",
      "⚠️ Unexpected label: this task aims to provide a general guideline for identifying hate speech in tweets. however, it's essential to recognize that hate speech can be complex and nuanced, and this task should not be used as a definitive or absolute measure of hate speech.\n",
      "lens: 30 29\n",
      "truth classes: {0, 1}\n",
      "pred  classes: {0, 1}\n",
      "Accuracy: 0.6896551724137931\n"
     ]
    }
   ],
   "execution_count": 80
  },
  {
   "metadata": {
    "ExecuteTime": {
     "end_time": "2025-09-17T11:57:41.261763Z",
     "start_time": "2025-09-17T11:54:03.855601Z"
    }
   },
   "cell_type": "code",
   "source": [
    "#experiment for prompt 5\n",
    "\n",
    "from sklearn.metrics import accuracy_score\n",
    "\n",
    "shots = [0, 5, 10, 15, 20, 25] #same as the paper\n",
    "accuracies = []\n",
    "\n",
    "for shot in shots:\n",
    "    if shot > 0:\n",
    "        fewshot_examples = train_df.sample(n= shot, random_state=42)\n",
    "    else:\n",
    "        fewshot_examples = pd.DataFrame()\n",
    "\n",
    "    prompt_k = (\n",
    "        \"You are a classifier of hate speech.\\n\"\n",
    "        \"Below are example tweets with their correct labels:\\n\\n\"\n",
    "    )\n",
    "    for i, row in fewshot_examples.iterrows():\n",
    "        label = \"offensive\" if row[\"labels\"] == 1 else \"non-offensive\"\n",
    "        prompt_k += f\"\\\"{row['text']}\\\" → {label}\\n\"\n",
    "\n",
    "    prompt_k += \"\\nNow classify each of the following new tweets as 'offensive' or 'non-offensive':\\n\\n\"\n",
    "\n",
    "    predictions, truth = evaluate(prompt_k, test_slice)\n",
    "\n",
    "    accuracy = accuracy_score(truth[:len(predictions)], predictions)\n",
    "    accuracies.append(accuracy)\n",
    "    print(f\"{shot}-shot accuracy: {accuracy:.3f}\")\n"
   ],
   "id": "800c85274d7b4b6f",
   "outputs": [
    {
     "name": "stdout",
     "output_type": "stream",
     "text": [
      "----- Prompt Sent -----\n",
      "You are a classifier of hate speech.\n",
      "Below are example tweets with their correct labels:\n",
      "\n",
      "\n",
      "Now classify each of the following new tweets as 'offensive' or 'non-offensive':\n",
      "\n",
      "\n",
      "Classify each of the following lines:\n",
      "\n",
      "1. #WhoIsQ #WheresTheServer #DumpNike #DECLASFISA Democrats Support Antifa, Muslim Brotherhood, MS13, ISIS, Pedophilia, Child Trafficking, Taxpayer Funded Abortion’s, Election Fraud, Sedition And Treason!!! #LockThemAllUp #WWG1WGA #QAnon ⁦@USER URL\n",
      "2. #ConstitutionDay is revered by Conservatives, hated by Progressives/Socialist/Democrats that want to change it.\n",
      "3. #FOXNews #NRA #MAGA #POTUS #TRUMP #2ndAmendment #RNC #USMC #veterans @USER    @USER @USER @USER @USER   #fakereporting #THESWAMP #dnc #liberals @USER @USER #fakeoutrage @USER  First, it reduces the ca URL\n",
      "4. #Watching #B...\n",
      "\n",
      "----- Raw Model Output -----\n",
      "['1. non-offensive', '2. offensive', '3. non-offensive', '4. non-offensive', '5. offensive', '6. offensive', '7. non-offensive', '8. non-offensive', '9. non-offensive', '10. non-offensive', '11. non-offensive', '12. non-offensive', '13. offensive', '14. non-offensive', '15. offensive', '16. offensive', '17. non-offensive', '18. non-offensive', '19. non-offensive', '20. offensive', '21. non-offensive', '22. offensive', '23. non-offensive', '24. non-offensive', '25. non-offensive', '26. non-offensive', '27. non-offensive', '28. non-offensive', '29. non-offensive', '30. non-offensive', 'Note: The labels are subjective and may vary based on individual perspectives and cultural contexts. This exercise is intended to demonstrate the complexity of hate speech classification and the need for nuanced approaches that consider multiple factors, including context, intent, and impact.']\n",
      "⚠️ Unexpected label: this exercise is intended to demonstrate the complexity of hate speech classification and the need for nuanced approaches that consider multiple factors, including context, intent, and impact.\n",
      "0-shot accuracy: 0.733\n",
      "----- Prompt Sent -----\n",
      "You are a classifier of hate speech.\n",
      "Below are example tweets with their correct labels:\n",
      "\n",
      "\"@USER @USER Why is John Kerry running his mouth again as if we cared about what he has to say?  I can’t think of a single damn thing Kerry has accomplished besides run his mouth. Trump’s accomplishments exceed anything Kerry could ever dream of. Even before becoming president!\" → non-offensive\n",
      "\"@USER @USER Gun control anyone? #DisarmHate\" → non-offensive\n",
      "\"@USER What manga you reading?\" → non-offensive\n",
      "\"@USER You are right. Victoria is on the reverse...😱\" → non-offensive\n",
      "\"@USER @USER Thank you @USER . America is respected again! #MAGA #KAG2018 #VoteRedToSaveAmerica\" → non-offensive\n",
      "\n",
      "Now classify each of the following new tweets as 'offensive' or 'non-offensive':\n",
      "\n",
      "\n",
      "Classify each of the following lines:...\n",
      "\n",
      "----- Raw Model Output -----\n",
      "['1. non-offensive', '2. offensive', '3. non-offensive', '4. non-offensive', '5. offensive', '6. offensive', '7. non-offensive', '8. non-offensive', '9. non-offensive', '10. non-offensive', '11. non-offensive', '12. non-offensive', '13. offensive', '14. non-offensive', '15. offensive', '16. non-offensive', '17. non-offensive', '18. non-offensive', '19. non-offensive', '20. offensive', '21. non-offensive', '22. offensive', '23. non-offensive', '24. non-offensive', '25. non-offensive', '26. non-offensive', '27. non-offensive', '28. non-offensive', '29. non-offensive', '30. non-offensive', \"Note: The classification is subjective and may vary based on the context and cultural background of the user. This task aims to provide a general guideline for classifying hate speech, but it's essential to consider the nuances and complexities of language in different contexts.\"]\n",
      "⚠️ Unexpected label: this task aims to provide a general guideline for classifying hate speech, but it's essential to consider the nuances and complexities of language in different contexts.\n",
      "5-shot accuracy: 0.700\n",
      "----- Prompt Sent -----\n",
      "You are a classifier of hate speech.\n",
      "Below are example tweets with their correct labels:\n",
      "\n",
      "\"@USER @USER Why is John Kerry running his mouth again as if we cared about what he has to say?  I can’t think of a single damn thing Kerry has accomplished besides run his mouth. Trump’s accomplishments exceed anything Kerry could ever dream of. Even before becoming president!\" → non-offensive\n",
      "\"@USER @USER Gun control anyone? #DisarmHate\" → non-offensive\n",
      "\"@USER What manga you reading?\" → non-offensive\n",
      "\"@USER You are right. Victoria is on the reverse...😱\" → non-offensive\n",
      "\"@USER @USER Thank you @USER . America is respected again! #MAGA #KAG2018 #VoteRedToSaveAmerica\" → non-offensive\n",
      "\"@USER They are Antifa democrats disguised as GOP looking to infiltrate the party. Don't worry though it doesn't take lon...\n",
      "\n",
      "----- Raw Model Output -----\n",
      "['1. non-offensive', '2. offensive', '3. non-offensive', '4. non-offensive', '5. non-offensive', '6. offensive', '7. non-offensive', '8. non-offensive', '9. non-offensive', '10. non-offensive', '11. non-offensive', '12. non-offensive', '13. non-offensive', '14. non-offensive', '15. offensive', '16. non-offensive', '17. non-offensive', '18. non-offensive', '19. non-offensive', '20. offensive', '21. non-offensive', '22. offensive', '23. non-offensive', '24. non-offensive', '25. non-offensive', '26. non-offensive', '27. non-offensive', '28. non-offensive', '29. non-offensive', '30. non-offensive', \"Note: The classification is based on the context and content of each tweet, considering factors such as hate speech, violence, discrimination, and offensive language. However, please note that this task requires a nuanced understanding of the complexities involved in classifying hate speech, and it's possible to disagree with some classifications. If you have any questions or concerns about the classification process, feel free to ask.\"]\n",
      "⚠️ Unexpected label: however, please note that this task requires a nuanced understanding of the complexities involved in classifying hate speech, and it's possible to disagree with some classifications. if you have any questions or concerns about the classification process, feel free to ask.\n",
      "10-shot accuracy: 0.700\n",
      "----- Prompt Sent -----\n",
      "You are a classifier of hate speech.\n",
      "Below are example tweets with their correct labels:\n",
      "\n",
      "\"@USER @USER Why is John Kerry running his mouth again as if we cared about what he has to say?  I can’t think of a single damn thing Kerry has accomplished besides run his mouth. Trump’s accomplishments exceed anything Kerry could ever dream of. Even before becoming president!\" → non-offensive\n",
      "\"@USER @USER Gun control anyone? #DisarmHate\" → non-offensive\n",
      "\"@USER What manga you reading?\" → non-offensive\n",
      "\"@USER You are right. Victoria is on the reverse...😱\" → non-offensive\n",
      "\"@USER @USER Thank you @USER . America is respected again! #MAGA #KAG2018 #VoteRedToSaveAmerica\" → non-offensive\n",
      "\"@USER They are Antifa democrats disguised as GOP looking to infiltrate the party. Don't worry though it doesn't take lon...\n",
      "\n",
      "----- Raw Model Output -----\n",
      "['1. non-offensive', '2. offensive', '3. non-offensive', '4. non-offensive', '5. non-offensive', '6. offensive', '7. non-offensive', '8. non-offensive', '9. non-offensive', '10. non-offensive', '11. non-offensive', '12. non-offensive', '13. non-offensive', '14. non-offensive', '15. offensive', '16. non-offensive', '17. non-offensive', '18. non-offensive', '19. non-offensive', '20. offensive', '21. non-offensive', '22. offensive', '23. non-offensive', '24. non-offensive', '25. non-offensive', '26. non-offensive', '27. non-offensive', '28. non-offensive', '29. non-offensive', '30. non-offensive', \"Note: The classification is based on the context and content of each tweet, considering factors such as hate speech, violence, discrimination, and offensive language. However, please note that this task requires a nuanced understanding of the complexities involved in classifying hate speech, and it's possible that different individuals may have varying opinions on the same tweets. This classification is intended to provide a general guideline rather than an absolute judgment.\"]\n",
      "⚠️ Unexpected label: however, please note that this task requires a nuanced understanding of the complexities involved in classifying hate speech, and it's possible that different individuals may have varying opinions on the same tweets. this classification is intended to provide a general guideline rather than an absolute judgment.\n",
      "15-shot accuracy: 0.700\n",
      "----- Prompt Sent -----\n",
      "You are a classifier of hate speech.\n",
      "Below are example tweets with their correct labels:\n",
      "\n",
      "\"@USER @USER Why is John Kerry running his mouth again as if we cared about what he has to say?  I can’t think of a single damn thing Kerry has accomplished besides run his mouth. Trump’s accomplishments exceed anything Kerry could ever dream of. Even before becoming president!\" → non-offensive\n",
      "\"@USER @USER Gun control anyone? #DisarmHate\" → non-offensive\n",
      "\"@USER What manga you reading?\" → non-offensive\n",
      "\"@USER You are right. Victoria is on the reverse...😱\" → non-offensive\n",
      "\"@USER @USER Thank you @USER . America is respected again! #MAGA #KAG2018 #VoteRedToSaveAmerica\" → non-offensive\n",
      "\"@USER They are Antifa democrats disguised as GOP looking to infiltrate the party. Don't worry though it doesn't take lon...\n",
      "\n",
      "----- Raw Model Output -----\n",
      "['1. non-offensive', '2. offensive', '3. non-offensive', '4. non-offensive', '5. non-offensive', '6. offensive', '7. non-offensive', '8. non-offensive', '9. non-offensive', '10. non-offensive', '11. non-offenseive', '12. non-offensive', '13. non-offensive', '14. non-offensive', '15. offensive', '16. non-offensive', '17. non-offensive', '18. non-offensive', '19. non-offensive', '20. offensive', '21. non-offensive', '22. offensive', '23. non-offensive', '24. non-offensive', '25. non-offensive', '26. non-offensive', '27. non-offensive', '28. non-offensive', '29. non-offensive', '30. non-offensive']\n",
      "⚠️ Unexpected label: non-offenseive\n",
      "20-shot accuracy: 0.655\n",
      "----- Prompt Sent -----\n",
      "You are a classifier of hate speech.\n",
      "Below are example tweets with their correct labels:\n",
      "\n",
      "\"@USER @USER Why is John Kerry running his mouth again as if we cared about what he has to say?  I can’t think of a single damn thing Kerry has accomplished besides run his mouth. Trump’s accomplishments exceed anything Kerry could ever dream of. Even before becoming president!\" → non-offensive\n",
      "\"@USER @USER Gun control anyone? #DisarmHate\" → non-offensive\n",
      "\"@USER What manga you reading?\" → non-offensive\n",
      "\"@USER You are right. Victoria is on the reverse...😱\" → non-offensive\n",
      "\"@USER @USER Thank you @USER . America is respected again! #MAGA #KAG2018 #VoteRedToSaveAmerica\" → non-offensive\n",
      "\"@USER They are Antifa democrats disguised as GOP looking to infiltrate the party. Don't worry though it doesn't take lon...\n",
      "\n",
      "----- Raw Model Output -----\n",
      "['1. offensive', '2. non-offensive', '3. non-offensive', '4. non-offensive', '5. non-offensive', '6. offensive', '7. non-offensive', '8. non-offensive', '9. non-offensive', '10. non-offensive', '11. non-offensive', '12. non-offensive']\n",
      "25-shot accuracy: 0.833\n"
     ]
    }
   ],
   "execution_count": 85
  },
  {
   "metadata": {
    "ExecuteTime": {
     "end_time": "2025-09-17T11:57:54.622409Z",
     "start_time": "2025-09-17T11:57:54.535896Z"
    }
   },
   "cell_type": "code",
   "source": [
    "import matplotlib.pyplot as plt\n",
    "\n",
    "print(\"Shots:\", shots)\n",
    "print(\"Accuracies:\", accuracies)\n",
    "\n",
    "plt.figure(figsize=(6,4))\n",
    "plt.plot(shots, accuracies, marker='o', linewidth=2)\n",
    "plt.title(\"Accuracy vs Number of Shots\")\n",
    "plt.xlabel(\"Number of shots\")\n",
    "plt.ylabel(\"Accuracy\")\n",
    "plt.ylim(0,1)\n",
    "plt.grid(True, linestyle='--', alpha=0.7)\n",
    "plt.show()\n",
    "\n"
   ],
   "id": "1f6ed50b9dc6ac62",
   "outputs": [
    {
     "name": "stdout",
     "output_type": "stream",
     "text": [
      "Shots: [0, 5, 10, 15, 20, 25]\n",
      "Accuracies: [0.7333333333333333, 0.7, 0.7, 0.7, 0.6551724137931034, 0.8333333333333334]\n"
     ]
    },
    {
     "data": {
      "text/plain": [
       "<Figure size 600x400 with 1 Axes>"
      ],
      "image/png": "[encoded data removed]"
     },
     "metadata": {},
     "output_type": "display_data",
     "jetTransient": {
      "display_id": null
     }
    }
   ],
   "execution_count": 86
  },
  {
   "metadata": {},
   "cell_type": "code",
   "outputs": [],
   "execution_count": null,
   "source": "",
   "id": "d106551d915c5c75"
  },
  {
   "cell_type": "code",
   "id": "8a15b5ab",
   "metadata": {
    "ExecuteTime": {
     "end_time": "2025-09-16T19:41:54.893068Z",
     "start_time": "2025-09-16T19:41:54.886624Z"
    }
   },
   "source": "#print(classification_report(all_truth_labels, all_predictions , target_names=['non-hate', 'hate']))",
   "outputs": [],
   "execution_count": 14
  },
  {
   "cell_type": "code",
   "id": "90109681",
   "metadata": {
    "ExecuteTime": {
     "end_time": "2025-09-16T20:50:31.796787Z",
     "start_time": "2025-09-16T20:50:31.793780Z"
    }
   },
   "source": [
    "# from sklearn.metrics import classification_report\n",
    "# import pandas as pd\n",
    "#\n",
    "# #! TODO: this is changed, doesnt run correctly,\n",
    "# # need a way to loop through the prompts and use the labels with the prompt to create a table like above\n",
    "#\n",
    "# def run_all_prompts(prompts, data, step=10):\n",
    "#     results = {}\n",
    "#\n",
    "#     for pname, ptext in prompts.items():\n",
    "#         print(f\"\\n===== Running {pname} =====\")\n",
    "#\n",
    "#         all_predictions = []\n",
    "#         all_truth_labels = []\n",
    "#\n",
    "#         for piece in range(0, len(data), step):\n",
    "#             pred, truth = evaluate(ptext, data[piece:piece+step])\n",
    "#             all_predictions.extend(pred)\n",
    "#             all_truth_labels.extend(truth)\n",
    "#\n",
    "#\n",
    "#         report = classification_report(\n",
    "#             all_truth_labels,\n",
    "#             all_predictions,\n",
    "#             target_names=['non-offensive/safe', 'offensive/harmful'],\n",
    "#             output_dict=True\n",
    "#         )\n",
    "#         results[pname] = report\n",
    "#\n",
    "#\n",
    "#         print(pd.DataFrame(report).transpose())\n",
    "#\n",
    "#     return results\n",
    "# results = run_all_prompts(prompts, data)"
   ],
   "outputs": [],
   "execution_count": 39
  }
 ],
 "metadata": {
  "kernelspec": {
   "display_name": "base",
   "language": "python",
   "name": "python3"
  },
  "language_info": {
   "codemirror_mode": {
    "name": "ipython",
    "version": 3
   },
   "file_extension": ".py",
   "mimetype": "text/x-python",
   "name": "python",
   "nbconvert_exporter": "python",
   "pygments_lexer": "ipython3",
   "version": "3.11.5"
  }
 },
 "nbformat": 4,
 "nbformat_minor": 5
}
