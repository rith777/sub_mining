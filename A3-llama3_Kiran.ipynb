{
 "cells": [
  {
   "cell_type": "markdown",
   "id": "dcc06ee7-6ece-496a-a378-3f7e952b5044",
   "metadata": {},
   "source": [
    "# "
   ]
  },
  {
   "cell_type": "code",
   "id": "f0950f7c-3ea5-4c79-acd4-ef6e33082ef2",
   "metadata": {
    "ExecuteTime": {
     "end_time": "2025-09-16T20:14:09.287056Z",
     "start_time": "2025-09-16T20:14:09.258295Z"
    }
   },
   "source": [
    "import openai\n",
    "from openai import OpenAI\n",
    "\n",
    "# Point to the server\n",
    "client = OpenAI(base_url=\"http://localhost:8000/v1\", api_key=\"cltl\")"
   ],
   "outputs": [],
   "execution_count": 26
  },
  {
   "cell_type": "code",
   "id": "21c895bc",
   "metadata": {
    "ExecuteTime": {
     "end_time": "2025-09-16T21:46:17.340452Z",
     "start_time": "2025-09-16T21:46:13.708854Z"
    }
   },
   "source": [
    "# Sentences to classify\n",
    "sentences = [\n",
    "    \"I hate you and I hope you fail.\",\n",
    "    \"What a beautiful day to go for a walk!\",\n",
    "    \"Your idea is stupid and nobody cares.\"\n",
    "]\n",
    "\n",
    "sentences = [\n",
    "    \"#WhoIsQ #WheresTheServer #DumpNike #DECLASFISA Democrats Support Antifa, Muslim Brotherhood, MS13, ISIS, Pedophilia, Child Trafficking, Taxpayer Funded Abortion’s, Election Fraud, Sedition And Treason!!! #LockThemAllUp #WWG1WGA #QAnon @USER URL\",\n",
    "    \"#ConstitutionDay is revered by Conservatives, hated by Progressives/Socialist/Democrats that want to change it.\",\n",
    "]\n",
    "\n",
    "# Build a single prompt\n",
    "prompt = \"Classify each of the following sentences as 'hate' or 'non-hate':\\n\\n\"\n",
    "for i, s in enumerate(sentences, 1):\n",
    "    prompt += f\"{i}. {s}\\n\"\n",
    "\n",
    "prompt += \"\\nReturn the results in the format:\\n<number>. <label>\\n\"\n",
    "\n",
    "# Make one request for all sentences\n",
    "response = client.completions.create(\n",
    "    model=\"local model\",  # currently unused\n",
    "    prompt=prompt,\n",
    "    max_tokens=50,\n",
    "    temperature=0,\n",
    "    stop=[\"Classify\", \"\\n\\n\"]\n",
    ")\n",
    "\n",
    "# Print the raw model output\n",
    "print(response.choices[0].text.strip())"
   ],
   "outputs": [
    {
     "name": "stdout",
     "output_type": "stream",
     "text": [
      "\n"
     ]
    }
   ],
   "execution_count": 48
  },
  {
   "cell_type": "code",
   "id": "e04e41b1",
   "metadata": {
    "ExecuteTime": {
     "end_time": "2025-09-16T20:14:17.729949Z",
     "start_time": "2025-09-16T20:14:17.726610Z"
    }
   },
   "source": [
    "from sklearn.metrics import classification_report, confusion_matrix"
   ],
   "outputs": [],
   "execution_count": 28
  },
  {
   "cell_type": "code",
   "id": "f861c717",
   "metadata": {
    "ExecuteTime": {
     "end_time": "2025-09-16T20:14:19.380529Z",
     "start_time": "2025-09-16T20:14:19.341170Z"
    }
   },
   "source": [
    "import pandas as pd\n",
    "\n",
    "# evaluation data\n",
    "# 15923,\"#WhoIsQ #WheresTheServer #DumpNike #DECLASFISA Democrats Support Antifa, Muslim Brotherhood, MS13, ISIS, Pedophilia, Child Trafficking, Taxpayer Funded Abortion’s, Election Fraud, Sedition And Treason!!! #LockThemAllUp #WWG1WGA #QAnon ⁦@USER URL\",1\n",
    "#data = pd.read_csv(\"Subjectivity_mining_assignment_4_5_data/olid-test.csv\")\n",
    "\n",
    "\n",
    "train_df = pd.read_csv(\"Subjectivity_mining_assignment_4_5_data/olid-train-small.csv\")\n",
    "test_df  = pd.read_csv(\"Subjectivity_mining_assignment_4_5_data/olid-test.csv\")"
   ],
   "outputs": [],
   "execution_count": 29
  },
  {
   "metadata": {
    "ExecuteTime": {
     "end_time": "2025-09-16T20:21:13.106688Z",
     "start_time": "2025-09-16T20:21:13.096493Z"
    }
   },
   "cell_type": "code",
   "source": "fewshot_examples = train_df.sample(n=10, random_state=42)",
   "id": "e5138ff1a9b5289c",
   "outputs": [],
   "execution_count": 33
  },
  {
   "metadata": {
    "ExecuteTime": {
     "end_time": "2025-09-16T20:21:14.092998Z",
     "start_time": "2025-09-16T20:21:14.086964Z"
    }
   },
   "cell_type": "code",
   "source": "print(fewshot_examples)",
   "id": "a306488ddc3e522f",
   "outputs": [
    {
     "name": "stdout",
     "output_type": "stream",
     "text": [
      "          id                                               text  labels\n",
      "12387  27650  @USER @USER Why is John Kerry running his mout...       0\n",
      "385    52965        @USER @USER Gun control anyone? #DisarmHate       0\n",
      "4896   87438                      @USER What manga you reading?       0\n",
      "3971   67140  @USER You are right. Victoria is on the revers...       0\n",
      "10394  43102  @USER @USER Thank you @USER . America is respe...       0\n",
      "12889  25562  @USER They are Antifa democrats disguised as G...       0\n",
      "4504   27304  @USER @USER @USER How do you come up with all ...       1\n",
      "3268   56638    @USER bitch my life was flashing before my eyes       1\n",
      "2439   49314                      @USER Lmao what a joke he is.       0\n",
      "4688   42416  @USER @USER @USER @USER @USER Looking forward ...       0\n"
     ]
    }
   ],
   "execution_count": 34
  },
  {
   "cell_type": "code",
   "id": "47262f30",
   "metadata": {
    "ExecuteTime": {
     "end_time": "2025-09-16T21:46:46.087770Z",
     "start_time": "2025-09-16T21:46:46.075913Z"
    }
   },
   "source": [
    "def evaluate(base_prompt, data_slice):\n",
    "    ground_truth = []\n",
    "\n",
    "    prompt = base_prompt + \"\\nClassify each of the following lines:\\n\\n\"\n",
    "\n",
    "    for i, (_, row) in enumerate(data_slice.iterrows(), 1):\n",
    "        ground_truth.append(row['labels'])\n",
    "        prompt += f\"{i}. {row['text']}\\n\"\n",
    "\n",
    "    prompt += \"\\nReturn the results in this format:\\n<number>. <label>\\n\"\n",
    "\n",
    "    print(\"----- Prompt Sent -----\")\n",
    "    print(prompt[:800] + (\"...\\n\" if len(prompt) > 800 else \"\"))\n",
    "\n",
    "    response = client.completions.create(\n",
    "        model=\"local model\",\n",
    "        prompt=prompt,\n",
    "        max_tokens=400,\n",
    "        temperature=0,\n",
    "        stop=[\"Classify\"]\n",
    "    )\n",
    "\n",
    "    raw_output = response.choices[0].text.strip()\n",
    "    lines = [ln for ln in raw_output.split(\"\\n\") if ln.strip()]\n",
    "\n",
    "    print(\"----- Raw Model Output -----\")\n",
    "    print(lines)\n",
    "\n",
    "    final_predictions = []\n",
    "    for ln in lines:\n",
    "        if \". \" in ln:\n",
    "            label_text = ln.split(\". \", 1)[1].strip().lower()\n",
    "        else:\n",
    "            print(\"⚠️ Skipped line:\", ln)\n",
    "            continue\n",
    "\n",
    "        if label_text == \"offensive\":\n",
    "            final_predictions.append(1)\n",
    "        elif label_text == \"non-offensive\":\n",
    "            final_predictions.append(0)\n",
    "        else:\n",
    "            print(\"⚠️ Unexpected label:\", label_text)\n",
    "\n",
    "    return final_predictions, ground_truth"
   ],
   "outputs": [],
   "execution_count": 49
  },
  {
   "cell_type": "code",
   "id": "93768bb4",
   "metadata": {
    "ExecuteTime": {
     "end_time": "2025-09-16T19:28:32.593068Z",
     "start_time": "2025-09-16T19:28:32.587466Z"
    }
   },
   "source": [
    "# get 10:20 from data\n",
    "#data[10:20]"
   ],
   "outputs": [],
   "execution_count": 11
  },
  {
   "metadata": {
    "ExecuteTime": {
     "end_time": "2025-09-16T21:46:49.523147Z",
     "start_time": "2025-09-16T21:46:49.514904Z"
    }
   },
   "cell_type": "code",
   "source": [
    "#prompt 5 = few-shot prompting with randomm\n",
    "prompt5_text = (\n",
    "    \"You are a classifier of hate speech.\\n\"\n",
    "    \"Below are example tweets with their correct labels:\\n\\n\"\n",
    ")\n",
    "\n",
    "for i, row in fewshot_examples.iterrows():\n",
    "    label = \"offensive\" if row[\"labels\"] == 1 else \"non-offensive\"\n",
    "    prompt5_text += f\"\\\"{row['text']}\\\" → {label}\\n\"\n",
    "\n",
    "prompt5_text += (\n",
    "    \"\\nNow classify each of the following new tweets as \"\n",
    "    \"'offensive' or 'non-offensive':\\n\\n\"\n",
    ")"
   ],
   "id": "f7037e810771dcbd",
   "outputs": [],
   "execution_count": 50
  },
  {
   "metadata": {
    "ExecuteTime": {
     "end_time": "2025-09-16T21:35:34.495821Z",
     "start_time": "2025-09-16T21:35:34.489604Z"
    }
   },
   "cell_type": "code",
   "source": [
    "#prompt 6 = few-shot prompting with actual examples from the training data, the small one\n",
    "\n",
    "prompt6_text = (\n",
    "    \"You are a classifier of hate speech.\\n\"\n",
    "    \"Below are example tweets with their correct labels:\\n\\n\"\n",
    ")\n",
    "\n",
    "examples = [\n",
    "    (\"LIBERALS ARE LIKE MONKEYS THROWING THEIR OWN SHIT AT EVERYTHING\", \"offensive\"),\n",
    "    (\"Smack the shit outta her 😂😂\", \"offensive\"),\n",
    "    (\"HEY BEE ITCH YOU WILL BE INDICTED AND WILL GO TO GITMO\", \"offensive\"),\n",
    "    (\"These mentally deranged Liberals are totally disgusting jerks!\", \"offensive\"),\n",
    "    (\"She is telling to be best to students. Wow ! What a role model she is.\", \"non-offensive\"),\n",
    "    (\"So what I read was gun control doesn’t work and CA politicians are working against Californians sounds about right\", \"non-offensive\"),\n",
    "    (\"He IS Mark Twain in my eyes. Love him.\", \"non-offensive\"),\n",
    "    (\"Nobody interferes and steals elections for liberals in western democracies including America than Soros. Why there is no investigation and are no charges against him? Yet!\", \"non-offensive\"),\n",
    "]\n",
    "\n",
    "for text,label in examples:\n",
    "    prompt6_text += f\"\\\"{text}\\\" → {label}\\n\"\n",
    "\n",
    "prompt6_text += \"\\nNow classify each of the following new tweets as 'offensive' or 'non-offensive':\\n\\n\""
   ],
   "id": "9eb04d0328308aeb",
   "outputs": [],
   "execution_count": 42
  },
  {
   "cell_type": "code",
   "id": "50c2ecbc",
   "metadata": {
    "ExecuteTime": {
     "end_time": "2025-09-16T21:50:54.011805Z",
     "start_time": "2025-09-16T21:50:26.159909Z"
    }
   },
   "source": [
    "# Prompts \n",
    "!#TODO: changed\n",
    "\n",
    "prompts = {\n",
    "    \"prompt1\": \"Classify each of the following sentences as 'offensive' or 'non-offensive':\\n\\n\",\n",
    "    \"prompt2\": \"\"\"You are a classifier of hate speech. The following data contains language that is either non offensive or offensive. \n",
    "Please note these are the definitions of offensive/non-offensive so try to stick to these guidelines.\n",
    "'offensive': A post that contains insults, threats, or profanity directed towards a person or group.\n",
    "'non-offensive': A post that is neutral, polite, or does not contain any harmful language.\"\"\"\n",
    ",\n",
    "    \"prompt3\": \"\"\"You are a classifier of hate speech. The following data contains language that is either non-offensive or offensive. \n",
    "    Please note these are the definitions of offensive/non-offensive, so try to stick to these guidelines. \n",
    "    'offensive': all types of expression that incite, promote, spread or justify violence, hatred or discrimination against a person or group of persons, or that denigrates them, by reason of their real or attributed personal characteristics or status such as \"race\", color, language, religion, nationality, national or ethnic origin, age, disability, sex, gender identity and sexual orientation. \n",
    "    'non-offensive': Negation of offensive definition.\"\"\"\n",
    "    ,\n",
    "    \"prompt4\": \"\"\"You are a classifier of hate speech. The following data contains language that is either harmful or safe.\n",
    "    Please note these are the definitions of harmful/safe, so try to stick to these guidelines.\n",
    "    'harmful': Language that is offensive, abusive, or hateful, and that can cause emotional or psychological harm to an individual or group.\n",
    "    'safe': Language that does not contain offensive or abusive content, and does not cause harm. \"\"\",\n",
    "\n",
    "    \"prompt5\": prompt5_text,\n",
    "    \"prompt6\": prompt6_text\n",
    "}\n",
    "\n",
    "\n",
    "#to quickly check results\n",
    "test_slice = test_df.head(30)\n",
    "\n",
    "all_predictions = []\n",
    "all_truth_labels = []\n",
    "\n",
    "for piece in range(0, len(test_slice), 10):\n",
    "    #pred, truth = evaluate(prompts[\"prompt5\"], test_slice[piece:piece+10])\n",
    "    pred, truth = evaluate(prompts[\"prompt6\"], test_slice[piece:piece+10])\n",
    "\n",
    "    all_predictions.extend(pred)\n",
    "    all_truth_labels.extend(truth)\n",
    "\n",
    "from sklearn.metrics import classification_report\n",
    "print(\"lens:\", len(all_truth_labels), len(all_predictions))\n",
    "print(\"truth classes:\", set(all_truth_labels))\n",
    "print(\"pred  classes:\", set(all_predictions))\n",
    "\n",
    "n = min(len(all_truth_labels), len(all_predictions))\n",
    "all_truth_labels = all_truth_labels[:n]\n",
    "all_predictions  = all_predictions[:n]\n",
    "\n",
    "print(classification_report(\n",
    "    all_truth_labels,\n",
    "    all_predictions,\n",
    "    labels=[0, 1],\n",
    "    target_names=['non-offensive','offensive'],\n",
    "    digits=3,\n",
    "    zero_division=0\n",
    "))"
   ],
   "outputs": [
    {
     "name": "stdout",
     "output_type": "stream",
     "text": [
      "----- Prompt Sent -----\n",
      "You are a classifier of hate speech.\n",
      "Below are example tweets with their correct labels:\n",
      "\n",
      "\"LIBERALS ARE LIKE MONKEYS THROWING THEIR OWN SHIT AT EVERYTHING\" → offensive\n",
      "\"Smack the shit outta her 😂😂\" → offensive\n",
      "\n",
      "Now classify each of the following new tweets as 'offensive' or 'non-offensive':\n",
      "\n",
      "Classify each of the following lines:\n",
      "\n",
      "1. #WhoIsQ #WheresTheServer #DumpNike #DECLASFISA Democrats Support Antifa, Muslim Brotherhood, MS13, ISIS, Pedophilia, Child Trafficking, Taxpayer Funded Abortion’s, Election Fraud, Sedition And Treason!!! #LockThemAllUp #WWG1WGA #QAnon ⁦@USER URL\n",
      "2. #ConstitutionDay is revered by Conservatives, hated by Progressives/Socialist/Democrats that want to change it.\n",
      "3. #FOXNews #NRA #MAGA #POTUS #TRUMP #2ndAmendment #RNC #USMC #veterans @USER    @USER @USER @USER @USER   #fakereporting #THESWAMP #dnc #liberals @USER @USER #fakeoutrage @USER  First, it reduces the ca URL\n",
      "4. #Watching #Boomer getting the news that she is still up for parole always makes me smile. #Wentworth Finale...@USER is such a treasure. URL\n",
      "5. #NoPasaran: Unity demo to oppose the far-right in #London – #antifa #Oct13 — Enough is Enough! URL\n",
      "6. . . . What the fuck did he do this time?\n",
      "7. #RAP is a form of ART! Used to express yourself freely. It does not gv the green light or excuse the behavior of acting like an animal! She is not in the streets of the BX where violence is a way of living. Elevate yourself boo and get on @USER level for longevity! #QUEEN👑\n",
      "8. @USER Do you get the feeling he is kissing @USER behind so he can humiliate him later?\n",
      "9. 5 Tips to Enhance Audience Connection on Facebook URL @USER #socialmedia #smm URL\n",
      "10. #BiggBossTamil janani won the task. She is going to first final list👏👏👏👏\n",
      "\n",
      "Return exactly 10 lines in the form '<number>. <label>' using only 'offensive' or 'non-offensive'. Do not include any other text.\n",
      "----- Raw Model Output -----\n",
      "['1. offensive', '2. non-offensive', '3. offensive', '4. non-offensive', '5. non-offensive', '6. offensive', '7. non-offensive', '8. offensive']\n",
      "⚠️ Missing prediction for 9; skipping this example.\n",
      "⚠️ Missing prediction for 10; skipping this example.\n",
      "----- Prompt Sent -----\n",
      "You are a classifier of hate speech.\n",
      "Below are example tweets with their correct labels:\n",
      "\n",
      "\"LIBERALS ARE LIKE MONKEYS THROWING THEIR OWN SHIT AT EVERYTHING\" → offensive\n",
      "\"Smack the shit outta her 😂😂\" → offensive\n",
      "\n",
      "Now classify each of the following new tweets as 'offensive' or 'non-offensive':\n",
      "\n",
      "Classify each of the following lines:\n",
      "\n",
      "1. #Conservatives - the party of low taxation 😂 #Tories #Tory URL\n",
      "2. 𝓒-𝓒𝓮𝓭𝓻𝓪𝓷..  The Nord cannot make a single move, but he is fully aware of what is happening. A chill comes down his spine as a ghostly, rather. . . calm female voice called for him from a corner of the room.  Before he even has time to /attempt/ a response, +\n",
      "3. #ConsTOO THE PLACE FOR FED UP CONSERVATIVES !!!\n",
      "4. #GreatAwakening #QAnon #PatriotsUnited #WWG1WGA #AreYouAwake  WHEN YOU ARE AWAKE YOU SEE CLEARLY ❤️🧡💛💚  Check out this video URL URL\n",
      "5. @USER Nigga ware da hits at\n",
      "6. #StopKavanaugh he is liar like the rest of the #GOP URL\n",
      "7. #Dayspromo week of September 17th #days #dool  A coma does things to a gal . Sami: You are going to be ok. Hattie: No thanks to you.  Get her out of here. Before she finishes me off.  Hattie pretends to be Marlena.  The look on Kayla face is priceless. URL\n",
      "8. #BiggBossTelugu2 Let’s all include @USER in all our tweets...he is the business head of Star Maa network..don’t know if he knows about biggboss team and host hurting audience emotions  #BiggBossTelugu2\n",
      "9. #Dallas#Policewoman kills neighbor in HIS own apartment? WHAT went wrong?? See:Officer who shot man in his own apartment was involved in 2017 shooting of a suspect. “She is devastated,said a Dallas police officer, adds she is \"so so sorry for his family?\" URL\n",
      "10. Always smack URL\n",
      "\n",
      "Return exactly 10 lines in the form '<number>. <label>' using only 'offensive' or 'non-offensive'. Do not include any other text.\n",
      "----- Raw Model Output -----\n",
      "['1. 1. non-offensive', '2. 2. non-offensive', '3. 3. offensive', '4. 4. non-offensive', '5. 5.']\n",
      "⚠️ Skipped line: 1. 1. non-offensive\n",
      "⚠️ Skipped line: 2. 2. non-offensive\n",
      "⚠️ Skipped line: 3. 3. offensive\n",
      "⚠️ Skipped line: 4. 4. non-offensive\n",
      "⚠️ Skipped line: 5. 5.\n",
      "⚠️ Missing prediction for 1; skipping this example.\n",
      "⚠️ Missing prediction for 2; skipping this example.\n",
      "⚠️ Missing prediction for 3; skipping this example.\n",
      "⚠️ Missing prediction for 4; skipping this example.\n",
      "⚠️ Missing prediction for 5; skipping this example.\n",
      "⚠️ Missing prediction for 6; skipping this example.\n",
      "⚠️ Missing prediction for 7; skipping this example.\n",
      "⚠️ Missing prediction for 8; skipping this example.\n",
      "⚠️ Missing prediction for 9; skipping this example.\n",
      "⚠️ Missing prediction for 10; skipping this example.\n",
      "----- Prompt Sent -----\n",
      "You are a classifier of hate speech.\n",
      "Below are example tweets with their correct labels:\n",
      "\n",
      "\"LIBERALS ARE LIKE MONKEYS THROWING THEIR OWN SHIT AT EVERYTHING\" → offensive\n",
      "\"Smack the shit outta her 😂😂\" → offensive\n",
      "\n",
      "Now classify each of the following new tweets as 'offensive' or 'non-offensive':\n",
      "\n",
      "Classify each of the following lines:\n",
      "\n",
      "1. #BREAKING: After a week-long trial, a Linn County jury convicted Gregory Davis of First-Degree Murder in connection with the Carrie Davis homicide that took place almost a year ago. URL URL\n",
      "2. #Kavanaugh so a wild claim from 36 years ago of groping has evolved into A Rape A Violent Sexual Event by Move URL a Soros based Org. that supports BLM Antifa etc. Unbeievable!\n",
      "3. #kznlt Enjouji really is the prototype of my character brand, he is nothing but things that I love all rolled into one horrible package and fed directly into baby me's subconscious.\n",
      "4. #SilsilaBadallteRishtonKa tag is filled with appreciation of @USER only....   Never watched this serial but I always wanted appreciation for Aditi... She is underrated since starting of the show... She is worth of all this appreciation.. 👏👏👏\n",
      "5. #Beto #BetoForSenate #BetoORourke #BetoforTX  Willie Nelson laughs at conservatives who are upset with him. URL\n",
      "6. #HIAC  Damn Matt Hardy and Randy Orton put on one hell in a cell match!! Woooo!!! I hope he is okay!!\n",
      "7. @USER School shootings aren't controversial. Wanting gun control is.\n",
      "8. @USER @USER Put DeLauro in a police lineup identifying the bag lady\" - she would be picked everytime! She has to be proof either Conn voters are incompetent to vote or she is part of a vast voter fraud conspiracy! No one votes for a woman that gross!\"\n",
      "9. @USER *coffee spit* Spartacus moment?  He never saw the film...\n",
      "10. @ ALL FAMILY/FRIENDS , do not tell me  bad shit that your bf/gf did to you just to go right back to them!!!\n",
      "\n",
      "Return exactly 10 lines in the form '<number>. <label>' using only 'offensive' or 'non-offensive'. Do not include any other text.\n",
      "----- Raw Model Output -----\n",
      "['1. offensive', '2. offensive', '3. non-offensive', '4. non-offensive', '5. non-offensive', '6. non-offensive', '7. non-offensive', '8']\n",
      "⚠️ Skipped line: 8\n",
      "⚠️ Missing prediction for 8; skipping this example.\n",
      "⚠️ Missing prediction for 9; skipping this example.\n",
      "⚠️ Missing prediction for 10; skipping this example.\n",
      "lens: 15 15\n",
      "truth classes: {0, 1}\n",
      "pred  classes: {0, 1}\n",
      "               precision    recall  f1-score   support\n",
      "\n",
      "non-offensive      0.889     0.727     0.800        11\n",
      "    offensive      0.500     0.750     0.600         4\n",
      "\n",
      "     accuracy                          0.733        15\n",
      "    macro avg      0.694     0.739     0.700        15\n",
      " weighted avg      0.785     0.733     0.747        15\n",
      "\n"
     ]
    }
   ],
   "execution_count": 52
  },
  {
   "cell_type": "code",
   "id": "8a15b5ab",
   "metadata": {
    "ExecuteTime": {
     "end_time": "2025-09-16T19:41:54.893068Z",
     "start_time": "2025-09-16T19:41:54.886624Z"
    }
   },
   "source": "#print(classification_report(all_truth_labels, all_predictions , target_names=['non-hate', 'hate']))",
   "outputs": [],
   "execution_count": 14
  },
  {
   "cell_type": "code",
   "id": "90109681",
   "metadata": {
    "ExecuteTime": {
     "end_time": "2025-09-16T20:50:31.796787Z",
     "start_time": "2025-09-16T20:50:31.793780Z"
    }
   },
   "source": [
    "# from sklearn.metrics import classification_report\n",
    "# import pandas as pd\n",
    "#\n",
    "# #! TODO: this is changed, doesnt run correctly,\n",
    "# # need a way to loop through the prompts and use the labels with the prompt to create a table like above\n",
    "#\n",
    "# def run_all_prompts(prompts, data, step=10):\n",
    "#     results = {}\n",
    "#\n",
    "#     for pname, ptext in prompts.items():\n",
    "#         print(f\"\\n===== Running {pname} =====\")\n",
    "#\n",
    "#         all_predictions = []\n",
    "#         all_truth_labels = []\n",
    "#\n",
    "#         for piece in range(0, len(data), step):\n",
    "#             pred, truth = evaluate(ptext, data[piece:piece+step])\n",
    "#             all_predictions.extend(pred)\n",
    "#             all_truth_labels.extend(truth)\n",
    "#\n",
    "#\n",
    "#         report = classification_report(\n",
    "#             all_truth_labels,\n",
    "#             all_predictions,\n",
    "#             target_names=['non-offensive/safe', 'offensive/harmful'],\n",
    "#             output_dict=True\n",
    "#         )\n",
    "#         results[pname] = report\n",
    "#\n",
    "#\n",
    "#         print(pd.DataFrame(report).transpose())\n",
    "#\n",
    "#     return results\n",
    "# results = run_all_prompts(prompts, data)"
   ],
   "outputs": [],
   "execution_count": 39
  }
 ],
 "metadata": {
  "kernelspec": {
   "display_name": "base",
   "language": "python",
   "name": "python3"
  },
  "language_info": {
   "codemirror_mode": {
    "name": "ipython",
    "version": 3
   },
   "file_extension": ".py",
   "mimetype": "text/x-python",
   "name": "python",
   "nbconvert_exporter": "python",
   "pygments_lexer": "ipython3",
   "version": "3.11.5"
  }
 },
 "nbformat": 4,
 "nbformat_minor": 5
}
