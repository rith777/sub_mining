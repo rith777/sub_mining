{
 "cells": [
  {
   "cell_type": "markdown",
   "id": "dcc06ee7-6ece-496a-a378-3f7e952b5044",
   "metadata": {},
   "source": [
    "# "
   ]
  },
  {
   "cell_type": "code",
   "execution_count": 5,
   "id": "f0950f7c-3ea5-4c79-acd4-ef6e33082ef2",
   "metadata": {},
   "outputs": [],
   "source": [
    "import openai\n",
    "from openai import OpenAI\n",
    "\n",
    "# Point to the server\n",
    "client = OpenAI(base_url=\"http://localhost:8000/v1\", api_key=\"cltl\")"
   ]
  },
  {
   "cell_type": "code",
   "execution_count": 45,
   "id": "21c895bc",
   "metadata": {},
   "outputs": [
    {
     "name": "stdout",
     "output_type": "stream",
     "text": [
      "1. hate\n",
      "2. non-hate\n"
     ]
    }
   ],
   "source": [
    "# Sentences to classify\n",
    "sentences = [\n",
    "    \"I hate you and I hope you fail.\",\n",
    "    \"What a beautiful day to go for a walk!\",\n",
    "    \"Your idea is stupid and nobody cares.\"\n",
    "]\n",
    "\n",
    "sentences = [\n",
    "    \"#WhoIsQ #WheresTheServer #DumpNike #DECLASFISA Democrats Support Antifa, Muslim Brotherhood, MS13, ISIS, Pedophilia, Child Trafficking, Taxpayer Funded Abortion’s, Election Fraud, Sedition And Treason!!! #LockThemAllUp #WWG1WGA #QAnon @USER URL\",\n",
    "    \"#ConstitutionDay is revered by Conservatives, hated by Progressives/Socialist/Democrats that want to change it.\",\n",
    "]\n",
    "\n",
    "# Build a single prompt\n",
    "prompt = \"Classify each of the following sentences as 'hate' or 'non-hate':\\n\\n\"\n",
    "for i, s in enumerate(sentences, 1):\n",
    "    prompt += f\"{i}. {s}\\n\"\n",
    "\n",
    "prompt += \"\\nReturn the results in the format:\\n<number>. <label>\\n\"\n",
    "\n",
    "# Make one request for all sentences\n",
    "response = client.completions.create(\n",
    "    model=\"local model\",  # currently unused\n",
    "    prompt=prompt,\n",
    "    max_tokens=50,\n",
    "    temperature=0,\n",
    "    stop=[\"Classify\", \"\\n\\n\"]\n",
    ")\n",
    "\n",
    "# Print the raw model output\n",
    "print(response.choices[0].text.strip())"
   ]
  },
  {
   "cell_type": "code",
   "execution_count": null,
   "id": "47262f30",
   "metadata": {},
   "outputs": [],
   "source": [
    "def evaluate(prompt, data):\n",
    "    \n",
    "    sentences = []\n",
    "    for id, row in data.iterrows():\n",
    "        sentences = row['text']\n",
    "    sentences = [\n",
    "        \"#WhoIsQ #WheresTheServer #DumpNike #DECLASFISA Democrats Support Antifa, Muslim Brotherhood, MS13, ISIS, Pedophilia, Child Trafficking, Taxpayer Funded Abortion’s, Election Fraud, Sedition And Treason!!! #LockThemAllUp #WWG1WGA #QAnon @USER URL\",\n",
    "        \"#ConstitutionDay is revered by Conservatives, hated by Progressives/Socialist/Democrats that want to change it.\",\n",
    "    ]\n",
    "\n",
    "    # Build a single prompt\n",
    "    prompt = \"Classify each of the following sentences as 'hate' or 'non-hate':\\n\\n\"\n",
    "    for i, s in enumerate(sentences, 1):\n",
    "        prompt += f\"{i}. {s}\\n\"\n",
    "\n",
    "    prompt += \"\\nReturn the results in the format:\\n<number>. <label>\\n\"\n",
    "\n",
    "    # Make one request for all sentences\n",
    "    response = client.completions.create(\n",
    "        model=\"local model\",  # currently unused\n",
    "        prompt=prompt,\n",
    "        max_tokens=50,\n",
    "        temperature=0,\n",
    "        stop=[\"Classify\", \"\\n\\n\"]\n",
    "    )\n",
    "\n",
    "    # Print the raw model output\n",
    "    print(response.choices[0].text.strip())"
   ]
  },
  {
   "cell_type": "code",
   "execution_count": 10,
   "id": "a315e8d3",
   "metadata": {},
   "outputs": [
    {
     "data": {
      "text/html": [
       "<div>\n",
       "<style scoped>\n",
       "    .dataframe tbody tr th:only-of-type {\n",
       "        vertical-align: middle;\n",
       "    }\n",
       "\n",
       "    .dataframe tbody tr th {\n",
       "        vertical-align: top;\n",
       "    }\n",
       "\n",
       "    .dataframe thead th {\n",
       "        text-align: right;\n",
       "    }\n",
       "</style>\n",
       "<table border=\"1\" class=\"dataframe\">\n",
       "  <thead>\n",
       "    <tr style=\"text-align: right;\">\n",
       "      <th></th>\n",
       "      <th>id</th>\n",
       "      <th>text</th>\n",
       "      <th>labels</th>\n",
       "    </tr>\n",
       "  </thead>\n",
       "  <tbody>\n",
       "    <tr>\n",
       "      <th>0</th>\n",
       "      <td>15923</td>\n",
       "      <td>#WhoIsQ #WheresTheServer #DumpNike #DECLASFISA...</td>\n",
       "      <td>1</td>\n",
       "    </tr>\n",
       "    <tr>\n",
       "      <th>1</th>\n",
       "      <td>27014</td>\n",
       "      <td>#ConstitutionDay is revered by Conservatives, ...</td>\n",
       "      <td>0</td>\n",
       "    </tr>\n",
       "    <tr>\n",
       "      <th>2</th>\n",
       "      <td>30530</td>\n",
       "      <td>#FOXNews #NRA #MAGA #POTUS #TRUMP #2ndAmendmen...</td>\n",
       "      <td>0</td>\n",
       "    </tr>\n",
       "    <tr>\n",
       "      <th>3</th>\n",
       "      <td>13876</td>\n",
       "      <td>#Watching #Boomer getting the news that she is...</td>\n",
       "      <td>0</td>\n",
       "    </tr>\n",
       "    <tr>\n",
       "      <th>4</th>\n",
       "      <td>60133</td>\n",
       "      <td>#NoPasaran: Unity demo to oppose the far-right...</td>\n",
       "      <td>1</td>\n",
       "    </tr>\n",
       "  </tbody>\n",
       "</table>\n",
       "</div>"
      ],
      "text/plain": [
       "      id                                               text  labels\n",
       "0  15923  #WhoIsQ #WheresTheServer #DumpNike #DECLASFISA...       1\n",
       "1  27014  #ConstitutionDay is revered by Conservatives, ...       0\n",
       "2  30530  #FOXNews #NRA #MAGA #POTUS #TRUMP #2ndAmendmen...       0\n",
       "3  13876  #Watching #Boomer getting the news that she is...       0\n",
       "4  60133  #NoPasaran: Unity demo to oppose the far-right...       1"
      ]
     },
     "execution_count": 10,
     "metadata": {},
     "output_type": "execute_result"
    }
   ],
   "source": [
    "import pandas as pd\n",
    "\n",
    "# evaluation data\n",
    "data = pd.read_csv(\"data/olid-test.csv\")\n",
    "data.head()"
   ]
  },
  {
   "cell_type": "code",
   "execution_count": null,
   "id": "151c4b99-a487-464a-8b0d-c7528a2fd00f",
   "metadata": {},
   "outputs": [],
   "source": [
    "# Prompts\n",
    "\n",
    "prompts = {\n",
    "    \"prompt1\": \"Classify each of the following sentences as 'hate' or 'non-hate':\\n\\n\",\n",
    "    \"prompt2\": \"\",\n",
    "    \"prompt3\": \"\",\n",
    "}"
   ]
  },
  {
   "cell_type": "code",
   "execution_count": 60,
   "id": "eab22562",
   "metadata": {},
   "outputs": [],
   "source": [
    "def evaluate_prompt(prompt, data):\n",
    "    true_label = []\n",
    "    for _, row in data.iterrows():\n",
    "        id = row['id']\n",
    "        text = row['text']\n",
    "        true_label.append(row['labels'])\n",
    "        \n",
    "        prompt += f\"{id}. {text}\\n\"\n",
    "        \n",
    "    prompt += \"\\nReturn the results in the format:\\n<number>. <label>\\n\"\n",
    "    response = client.completions.create(\n",
    "        model=\"local model\",  # currently unused\n",
    "        prompt=prompt,\n",
    "        max_tokens=50,\n",
    "        temperature=0,\n",
    "        stop=[\"Classify\", \"\\n\\n\"]\n",
    "    )\n",
    "\n",
    "    predicted_label = response.choices[0].text.strip().lower()\n",
    "    print(predicted_label)\n",
    "        \n",
    "        # if predicted_label not in ['<hate>', '<non-hate>']:\n",
    "        #     raise ValueError(f\"Unexpected label: {predicted_label}\")\n",
    "            \n",
    "    # if '<non-hate>' in predicted_label:\n",
    "    #     predicted_label = 0\n",
    "    # elif \"hate\" in predicted_label:\n",
    "    #     predicted_label = 1\n",
    "    # else:\n",
    "    #     raise ValueError(f\"Unexpected label: {predicted_label}\")\n",
    "        \n",
    "    # results.append((id, true_label, predicted_label))\n",
    "\n",
    "    return predicted_label, true_label"
   ]
  },
  {
   "cell_type": "code",
   "execution_count": 61,
   "id": "4abf75ea",
   "metadata": {},
   "outputs": [
    {
     "name": "stdout",
     "output_type": "stream",
     "text": [
      "```\n",
      "here are the results:\n"
     ]
    },
    {
     "data": {
      "text/plain": [
       "('```\\nhere are the results:', [1, 0, 0, 0, 1, 1, 0, 1, 0, 0])"
      ]
     },
     "execution_count": 61,
     "metadata": {},
     "output_type": "execute_result"
    }
   ],
   "source": [
    "evaluate_prompt(prompts['prompt1'], data[:10])\n"
   ]
  },
  {
   "cell_type": "code",
   "execution_count": null,
   "id": "8a15b5ab",
   "metadata": {},
   "outputs": [],
   "source": []
  }
 ],
 "metadata": {
  "kernelspec": {
   "display_name": "env",
   "language": "python",
   "name": "python3"
  },
  "language_info": {
   "codemirror_mode": {
    "name": "ipython",
    "version": 3
   },
   "file_extension": ".py",
   "mimetype": "text/x-python",
   "name": "python",
   "nbconvert_exporter": "python",
   "pygments_lexer": "ipython3",
   "version": "3.13.2"
  }
 },
 "nbformat": 4,
 "nbformat_minor": 5
}
