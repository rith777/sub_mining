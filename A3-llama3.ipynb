{
 "cells": [
  {
   "cell_type": "markdown",
   "id": "dcc06ee7-6ece-496a-a378-3f7e952b5044",
   "metadata": {},
   "source": [
    "# "
   ]
  },
  {
   "cell_type": "code",
   "execution_count": 1,
   "id": "f0950f7c-3ea5-4c79-acd4-ef6e33082ef2",
   "metadata": {},
   "outputs": [],
   "source": [
    "import openai\n",
    "from openai import OpenAI\n",
    "\n",
    "# Point to the server\n",
    "client = OpenAI(base_url=\"http://localhost:8000/v1\", api_key=\"cltl\")"
   ]
  },
  {
   "cell_type": "code",
   "execution_count": 2,
   "id": "21c895bc",
   "metadata": {},
   "outputs": [
    {
     "name": "stdout",
     "output_type": "stream",
     "text": [
      "1. hate\n",
      "2. non-hate\n",
      "3. hate\n"
     ]
    }
   ],
   "source": [
    "# Sentences to classify\n",
    "sentences = [\n",
    "    \"I hate you and I hope you fail.\",\n",
    "    \"What a beautiful day to go for a walk!\",\n",
    "    \"Your idea is stupid and nobody cares.\"\n",
    "]\n",
    "\n",
    "# Build a single prompt\n",
    "prompt = \"Classify each of the following sentences as 'hate' or 'non-hate':\\n\\n\"\n",
    "for i, s in enumerate(sentences, 1):\n",
    "    prompt += f\"{i}. {s}\\n\"\n",
    "\n",
    "prompt += \"\\nReturn the results in the format:\\n<number>. <label>\\n\"\n",
    "\n",
    "# Make one request for all sentences\n",
    "response = client.completions.create(\n",
    "    model=\"local model\",  # currently unused\n",
    "    prompt=prompt,\n",
    "    max_tokens=50,\n",
    "    temperature=0,\n",
    "    stop=[\"Classify\", \"\\n\\n\"]\n",
    ")\n",
    "\n",
    "# Print the raw model output\n",
    "print(response.choices[0].text.strip())"
   ]
  },
  {
   "cell_type": "code",
   "execution_count": null,
   "id": "a315e8d3",
   "metadata": {},
   "outputs": [],
   "source": []
  },
  {
   "cell_type": "code",
   "execution_count": null,
   "id": "151c4b99-a487-464a-8b0d-c7528a2fd00f",
   "metadata": {},
   "outputs": [],
   "source": []
  }
 ],
 "metadata": {
  "kernelspec": {
   "display_name": "Python 3 (ipykernel)",
   "language": "python",
   "name": "python3"
  },
  "language_info": {
   "codemirror_mode": {
    "name": "ipython",
    "version": 3
   },
   "file_extension": ".py",
   "mimetype": "text/x-python",
   "name": "python",
   "nbconvert_exporter": "python",
   "pygments_lexer": "ipython3",
   "version": "3.11.8"
  }
 },
 "nbformat": 4,
 "nbformat_minor": 5
}
